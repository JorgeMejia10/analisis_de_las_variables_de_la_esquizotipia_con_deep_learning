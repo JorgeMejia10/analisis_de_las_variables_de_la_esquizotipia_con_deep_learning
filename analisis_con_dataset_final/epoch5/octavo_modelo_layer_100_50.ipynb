{
 "cells": [
  {
   "cell_type": "code",
   "execution_count": 1,
   "metadata": {},
   "outputs": [],
   "source": [
    "from fastai.tabular import *"
   ]
  },
  {
   "cell_type": "code",
   "execution_count": 2,
   "metadata": {},
   "outputs": [
    {
     "data": {
      "text/plain": [
       "'C:/Users/Jorge Mejia/Desktop/analisis_de_las_variables_de_la_esquizotipia_con_deep_learning/analisis_con_dataset_final/'"
      ]
     },
     "execution_count": 2,
     "metadata": {},
     "output_type": "execute_result"
    }
   ],
   "source": [
    "path = 'C:/Users/Jorge Mejia/Desktop/analisis_de_las_variables_de_la_esquizotipia_con_deep_learning/analisis_con_dataset_final/'\n",
    "path"
   ]
  },
  {
   "cell_type": "code",
   "execution_count": 3,
   "metadata": {},
   "outputs": [
    {
     "data": {
      "text/html": [
       "<div>\n",
       "<style scoped>\n",
       "    .dataframe tbody tr th:only-of-type {\n",
       "        vertical-align: middle;\n",
       "    }\n",
       "\n",
       "    .dataframe tbody tr th {\n",
       "        vertical-align: top;\n",
       "    }\n",
       "\n",
       "    .dataframe thead th {\n",
       "        text-align: right;\n",
       "    }\n",
       "</style>\n",
       "<table border=\"1\" class=\"dataframe\">\n",
       "  <thead>\n",
       "    <tr style=\"text-align: right;\">\n",
       "      <th></th>\n",
       "      <th>CSI_RESPROBL</th>\n",
       "      <th>CSI_REESTCOGN</th>\n",
       "      <th>CSI_APOYOSOC</th>\n",
       "      <th>CSI_EVITPROBL</th>\n",
       "      <th>CSI_PENSDESID</th>\n",
       "      <th>CSI_RETISOC</th>\n",
       "      <th>CSI_AUTOCRIT</th>\n",
       "      <th>ANSIEDADRASGO</th>\n",
       "      <th>SCL90_IDEA_PARAN</th>\n",
       "      <th>CAPE_POSIT_FREC</th>\n",
       "      <th>TRAUMA_FRECUENCIA</th>\n",
       "      <th>SPQ_TOTAL_ESQUIZOT</th>\n",
       "    </tr>\n",
       "  </thead>\n",
       "  <tbody>\n",
       "    <tr>\n",
       "      <td>0</td>\n",
       "      <td>17</td>\n",
       "      <td>5</td>\n",
       "      <td>0</td>\n",
       "      <td>7</td>\n",
       "      <td>5</td>\n",
       "      <td>13</td>\n",
       "      <td>2</td>\n",
       "      <td>20</td>\n",
       "      <td>0</td>\n",
       "      <td>24</td>\n",
       "      <td>4</td>\n",
       "      <td>0</td>\n",
       "    </tr>\n",
       "    <tr>\n",
       "      <td>1</td>\n",
       "      <td>13</td>\n",
       "      <td>11</td>\n",
       "      <td>3</td>\n",
       "      <td>6</td>\n",
       "      <td>11</td>\n",
       "      <td>17</td>\n",
       "      <td>11</td>\n",
       "      <td>17</td>\n",
       "      <td>1</td>\n",
       "      <td>22</td>\n",
       "      <td>9</td>\n",
       "      <td>0</td>\n",
       "    </tr>\n",
       "    <tr>\n",
       "      <td>2</td>\n",
       "      <td>20</td>\n",
       "      <td>20</td>\n",
       "      <td>20</td>\n",
       "      <td>11</td>\n",
       "      <td>8</td>\n",
       "      <td>3</td>\n",
       "      <td>0</td>\n",
       "      <td>20</td>\n",
       "      <td>1</td>\n",
       "      <td>30</td>\n",
       "      <td>12</td>\n",
       "      <td>1</td>\n",
       "    </tr>\n",
       "    <tr>\n",
       "      <td>3</td>\n",
       "      <td>12</td>\n",
       "      <td>1</td>\n",
       "      <td>0</td>\n",
       "      <td>4</td>\n",
       "      <td>6</td>\n",
       "      <td>3</td>\n",
       "      <td>1</td>\n",
       "      <td>18</td>\n",
       "      <td>0</td>\n",
       "      <td>20</td>\n",
       "      <td>4</td>\n",
       "      <td>0</td>\n",
       "    </tr>\n",
       "    <tr>\n",
       "      <td>4</td>\n",
       "      <td>8</td>\n",
       "      <td>9</td>\n",
       "      <td>17</td>\n",
       "      <td>4</td>\n",
       "      <td>14</td>\n",
       "      <td>2</td>\n",
       "      <td>6</td>\n",
       "      <td>27</td>\n",
       "      <td>17</td>\n",
       "      <td>35</td>\n",
       "      <td>17</td>\n",
       "      <td>2</td>\n",
       "    </tr>\n",
       "  </tbody>\n",
       "</table>\n",
       "</div>"
      ],
      "text/plain": [
       "   CSI_RESPROBL  CSI_REESTCOGN  CSI_APOYOSOC  CSI_EVITPROBL  CSI_PENSDESID  \\\n",
       "0            17              5             0              7              5   \n",
       "1            13             11             3              6             11   \n",
       "2            20             20            20             11              8   \n",
       "3            12              1             0              4              6   \n",
       "4             8              9            17              4             14   \n",
       "\n",
       "   CSI_RETISOC  CSI_AUTOCRIT  ANSIEDADRASGO  SCL90_IDEA_PARAN  \\\n",
       "0           13             2             20                 0   \n",
       "1           17            11             17                 1   \n",
       "2            3             0             20                 1   \n",
       "3            3             1             18                 0   \n",
       "4            2             6             27                17   \n",
       "\n",
       "   CAPE_POSIT_FREC  TRAUMA_FRECUENCIA  SPQ_TOTAL_ESQUIZOT  \n",
       "0               24                  4                   0  \n",
       "1               22                  9                   0  \n",
       "2               30                 12                   1  \n",
       "3               20                  4                   0  \n",
       "4               35                 17                   2  "
      ]
     },
     "execution_count": 3,
     "metadata": {},
     "output_type": "execute_result"
    }
   ],
   "source": [
    "df = pd.read_csv(path + 'dataset_esquizotipia_final.csv')\n",
    "df.head()"
   ]
  },
  {
   "cell_type": "code",
   "execution_count": 4,
   "metadata": {},
   "outputs": [],
   "source": [
    "procs = [FillMissing, Categorify, Normalize]"
   ]
  },
  {
   "cell_type": "code",
   "execution_count": 5,
   "metadata": {},
   "outputs": [],
   "source": [
    "# se selecciona un 95% de los datos para entrenamiento y un 5% de los datos para validación\n",
    "valid_idx  =  range ( len ( df ) - 14 ,  len ( df ))"
   ]
  },
  {
   "cell_type": "code",
   "execution_count": 6,
   "metadata": {},
   "outputs": [],
   "source": [
    "# Se define la variable dependiente\n",
    "dep_var  =  'SPQ_TOTAL_ESQUIZOT'"
   ]
  },
  {
   "cell_type": "code",
   "execution_count": 7,
   "metadata": {},
   "outputs": [
    {
     "name": "stdout",
     "output_type": "stream",
     "text": [
      "['CSI_REESTCOGN', 'SCL90_IDEA_PARAN', 'CSI_EVITPROBL', 'CAPE_POSIT_FREC', 'CSI_APOYOSOC', 'CSI_RESPROBL', 'CSI_PENSDESID', 'CSI_AUTOCRIT', 'TRAUMA_FRECUENCIA', 'ANSIEDADRASGO', 'CSI_RETISOC']\n"
     ]
    }
   ],
   "source": [
    "data = TabularDataBunch.from_df(path, df, dep_var, valid_idx=valid_idx, procs=procs)\n",
    "print(data.train_ds.cont_names) # `cont_names` defaults to: set(df)-set(cat_names)-{dep_var}"
   ]
  },
  {
   "cell_type": "code",
   "execution_count": 8,
   "metadata": {},
   "outputs": [
    {
     "name": "stdout",
     "output_type": "stream",
     "text": [
      "[0 0 0 0 0]\n",
      "[[-1.707859  2.41501  -0.115173  4.315633 ...  0.876008 -0.721776  0.204195  1.704824]\n",
      " [ 0.163014 -0.5088   -0.55953   0.62137  ... -0.900831 -0.443829  0.204195 -0.414518]\n",
      " [-0.585335  0.075962 -0.55953  -0.456124 ...  0.698324  0.48266   2.965902  0.221284]\n",
      " [-1.333684 -0.118959 -1.003888  0.005659 ... -0.900831  0.112064 -0.409518 -0.414518]\n",
      " [ 0.724275 -0.703721  0.107005 -0.456124 ...  0.165272  0.019415 -0.409518 -0.626453]]\n",
      "[2 1 1 1 0]\n"
     ]
    }
   ],
   "source": [
    "(cat_x,cont_x),y = next(iter(data.train_dl))\n",
    "for o in (cat_x, cont_x, y): print(to_np(o[:5]))"
   ]
  },
  {
   "cell_type": "code",
   "execution_count": 9,
   "metadata": {},
   "outputs": [
    {
     "data": {
      "text/html": [
       "<table border=\"1\" class=\"dataframe\">\n",
       "  <thead>\n",
       "    <tr style=\"text-align: left;\">\n",
       "      <th>epoch</th>\n",
       "      <th>train_loss</th>\n",
       "      <th>valid_loss</th>\n",
       "      <th>accuracy</th>\n",
       "      <th>time</th>\n",
       "    </tr>\n",
       "  </thead>\n",
       "  <tbody>\n",
       "    <tr>\n",
       "      <td>0</td>\n",
       "      <td>0.979224</td>\n",
       "      <td>1.023693</td>\n",
       "      <td>0.714286</td>\n",
       "      <td>02:41</td>\n",
       "    </tr>\n",
       "    <tr>\n",
       "      <td>1</td>\n",
       "      <td>0.848547</td>\n",
       "      <td>0.924685</td>\n",
       "      <td>0.785714</td>\n",
       "      <td>02:32</td>\n",
       "    </tr>\n",
       "    <tr>\n",
       "      <td>2</td>\n",
       "      <td>0.783607</td>\n",
       "      <td>0.799674</td>\n",
       "      <td>0.785714</td>\n",
       "      <td>02:41</td>\n",
       "    </tr>\n",
       "    <tr>\n",
       "      <td>3</td>\n",
       "      <td>0.742497</td>\n",
       "      <td>0.716218</td>\n",
       "      <td>0.785714</td>\n",
       "      <td>02:44</td>\n",
       "    </tr>\n",
       "    <tr>\n",
       "      <td>4</td>\n",
       "      <td>0.703199</td>\n",
       "      <td>0.681196</td>\n",
       "      <td>0.785714</td>\n",
       "      <td>02:38</td>\n",
       "    </tr>\n",
       "  </tbody>\n",
       "</table>"
      ],
      "text/plain": [
       "<IPython.core.display.HTML object>"
      ]
     },
     "metadata": {},
     "output_type": "display_data"
    }
   ],
   "source": [
    "learn = tabular_learner(data, layers=[100,50], metrics=accuracy)\n",
    "learn.fit(5)"
   ]
  },
  {
   "cell_type": "code",
   "execution_count": 10,
   "metadata": {},
   "outputs": [
    {
     "data": {
      "text/html": [
       "<table border=\"1\" class=\"dataframe\">\n",
       "  <thead>\n",
       "    <tr style=\"text-align: right;\">\n",
       "      <th>CSI_REESTCOGN</th>\n",
       "      <th>SCL90_IDEA_PARAN</th>\n",
       "      <th>CSI_EVITPROBL</th>\n",
       "      <th>CAPE_POSIT_FREC</th>\n",
       "      <th>CSI_APOYOSOC</th>\n",
       "      <th>CSI_RESPROBL</th>\n",
       "      <th>CSI_PENSDESID</th>\n",
       "      <th>CSI_AUTOCRIT</th>\n",
       "      <th>TRAUMA_FRECUENCIA</th>\n",
       "      <th>ANSIEDADRASGO</th>\n",
       "      <th>CSI_RETISOC</th>\n",
       "      <th>target</th>\n",
       "      <th>prediction</th>\n",
       "    </tr>\n",
       "  </thead>\n",
       "  <tbody>\n",
       "    <tr>\n",
       "      <td>-0.9595</td>\n",
       "      <td>-0.7037</td>\n",
       "      <td>-1.0039</td>\n",
       "      <td>-0.4561</td>\n",
       "      <td>-0.2470</td>\n",
       "      <td>-0.0714</td>\n",
       "      <td>-0.0166</td>\n",
       "      <td>0.1653</td>\n",
       "      <td>0.2974</td>\n",
       "      <td>-0.7164</td>\n",
       "      <td>-0.6265</td>\n",
       "      <td>0</td>\n",
       "      <td>0</td>\n",
       "    </tr>\n",
       "    <tr>\n",
       "      <td>-1.5208</td>\n",
       "      <td>-0.8986</td>\n",
       "      <td>-1.0039</td>\n",
       "      <td>-1.0718</td>\n",
       "      <td>-1.2861</td>\n",
       "      <td>-0.6656</td>\n",
       "      <td>0.4857</td>\n",
       "      <td>0.5206</td>\n",
       "      <td>-1.1850</td>\n",
       "      <td>-0.1027</td>\n",
       "      <td>0.6452</td>\n",
       "      <td>0</td>\n",
       "      <td>0</td>\n",
       "    </tr>\n",
       "    <tr>\n",
       "      <td>1.2855</td>\n",
       "      <td>-0.8986</td>\n",
       "      <td>-0.5595</td>\n",
       "      <td>-0.9179</td>\n",
       "      <td>1.1384</td>\n",
       "      <td>1.5133</td>\n",
       "      <td>-2.0259</td>\n",
       "      <td>-1.2562</td>\n",
       "      <td>2.0577</td>\n",
       "      <td>-0.8698</td>\n",
       "      <td>-0.6265</td>\n",
       "      <td>0</td>\n",
       "      <td>0</td>\n",
       "    </tr>\n",
       "    <tr>\n",
       "      <td>0.5372</td>\n",
       "      <td>-0.1190</td>\n",
       "      <td>0.5514</td>\n",
       "      <td>-0.3022</td>\n",
       "      <td>-0.5934</td>\n",
       "      <td>0.1267</td>\n",
       "      <td>0.1508</td>\n",
       "      <td>0.3430</td>\n",
       "      <td>0.1121</td>\n",
       "      <td>-0.1027</td>\n",
       "      <td>0.4332</td>\n",
       "      <td>1</td>\n",
       "      <td>0</td>\n",
       "    </tr>\n",
       "    <tr>\n",
       "      <td>-0.2112</td>\n",
       "      <td>-0.5088</td>\n",
       "      <td>0.1070</td>\n",
       "      <td>-0.3022</td>\n",
       "      <td>1.1384</td>\n",
       "      <td>0.1267</td>\n",
       "      <td>-1.1887</td>\n",
       "      <td>-0.7231</td>\n",
       "      <td>-0.2585</td>\n",
       "      <td>0.2042</td>\n",
       "      <td>-0.4145</td>\n",
       "      <td>0</td>\n",
       "      <td>0</td>\n",
       "    </tr>\n",
       "  </tbody>\n",
       "</table>"
      ],
      "text/plain": [
       "<IPython.core.display.HTML object>"
      ]
     },
     "metadata": {},
     "output_type": "display_data"
    },
    {
     "data": {
      "image/png": "[encoded data removed]",
      "text/plain": [
       "<Figure size 432x288 with 1 Axes>"
      ]
     },
     "metadata": {
      "needs_background": "light"
     },
     "output_type": "display_data"
    }
   ],
   "source": [
    "learn.recorder.plot_losses()\n",
    "learn.show_results()"
   ]
  },
  {
   "cell_type": "code",
   "execution_count": 11,
   "metadata": {},
   "outputs": [
    {
     "data": {
      "text/plain": [
       "WindowsPath('C:/Users/Jorge Mejia/Desktop/analisis_de_las_variables_de_la_esquizotipia_con_deep_learning/analisis_con_dataset_final/models/trained_8vo_model_785714.pth')"
      ]
     },
     "execution_count": 11,
     "metadata": {},
     "output_type": "execute_result"
    }
   ],
   "source": [
    "# el numero en el nombre es el porcentaje de precision, en este caso el porcentaje es 0.785714\n",
    "learn.save(\"trained_8vo_model_785714\", return_path=True)"
   ]
  },
  {
   "cell_type": "code",
   "execution_count": null,
   "metadata": {},
   "outputs": [],
   "source": []
  }
 ],
 "metadata": {
  "kernelspec": {
   "display_name": "Python 3",
   "language": "python",
   "name": "python3"
  },
  "language_info": {
   "codemirror_mode": {
    "name": "ipython",
    "version": 3
   },
   "file_extension": ".py",
   "mimetype": "text/x-python",
   "name": "python",
   "nbconvert_exporter": "python",
   "pygments_lexer": "ipython3",
   "version": "3.7.4"
  }
 },
 "nbformat": 4,
 "nbformat_minor": 2
}
