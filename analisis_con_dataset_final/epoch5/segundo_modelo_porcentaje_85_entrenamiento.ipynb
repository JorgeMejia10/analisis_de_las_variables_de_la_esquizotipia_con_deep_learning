{
 "cells": [
  {
   "cell_type": "code",
   "execution_count": 1,
   "metadata": {},
   "outputs": [],
   "source": [
    "from fastai.tabular import *"
   ]
  },
  {
   "cell_type": "code",
   "execution_count": 2,
   "metadata": {},
   "outputs": [
    {
     "data": {
      "text/plain": [
       "'C:/Users/Jorge Mejia/Desktop/analisis_de_las_variables_de_la_esquizotipia_con_deep_learning/analisis_con_dataset_final/'"
      ]
     },
     "execution_count": 2,
     "metadata": {},
     "output_type": "execute_result"
    }
   ],
   "source": [
    "path = 'C:/Users/Jorge Mejia/Desktop/analisis_de_las_variables_de_la_esquizotipia_con_deep_learning/analisis_con_dataset_final/'\n",
    "path"
   ]
  },
  {
   "cell_type": "code",
   "execution_count": 3,
   "metadata": {},
   "outputs": [
    {
     "data": {
      "text/html": [
       "<div>\n",
       "<style scoped>\n",
       "    .dataframe tbody tr th:only-of-type {\n",
       "        vertical-align: middle;\n",
       "    }\n",
       "\n",
       "    .dataframe tbody tr th {\n",
       "        vertical-align: top;\n",
       "    }\n",
       "\n",
       "    .dataframe thead th {\n",
       "        text-align: right;\n",
       "    }\n",
       "</style>\n",
       "<table border=\"1\" class=\"dataframe\">\n",
       "  <thead>\n",
       "    <tr style=\"text-align: right;\">\n",
       "      <th></th>\n",
       "      <th>CSI_RESPROBL</th>\n",
       "      <th>CSI_REESTCOGN</th>\n",
       "      <th>CSI_APOYOSOC</th>\n",
       "      <th>CSI_EVITPROBL</th>\n",
       "      <th>CSI_PENSDESID</th>\n",
       "      <th>CSI_RETISOC</th>\n",
       "      <th>CSI_AUTOCRIT</th>\n",
       "      <th>ANSIEDADRASGO</th>\n",
       "      <th>SCL90_IDEA_PARAN</th>\n",
       "      <th>CAPE_POSIT_FREC</th>\n",
       "      <th>TRAUMA_FRECUENCIA</th>\n",
       "      <th>SPQ_TOTAL_ESQUIZOT</th>\n",
       "    </tr>\n",
       "  </thead>\n",
       "  <tbody>\n",
       "    <tr>\n",
       "      <td>0</td>\n",
       "      <td>17</td>\n",
       "      <td>5</td>\n",
       "      <td>0</td>\n",
       "      <td>7</td>\n",
       "      <td>5</td>\n",
       "      <td>13</td>\n",
       "      <td>2</td>\n",
       "      <td>20</td>\n",
       "      <td>0</td>\n",
       "      <td>24</td>\n",
       "      <td>4</td>\n",
       "      <td>0</td>\n",
       "    </tr>\n",
       "    <tr>\n",
       "      <td>1</td>\n",
       "      <td>13</td>\n",
       "      <td>11</td>\n",
       "      <td>3</td>\n",
       "      <td>6</td>\n",
       "      <td>11</td>\n",
       "      <td>17</td>\n",
       "      <td>11</td>\n",
       "      <td>17</td>\n",
       "      <td>1</td>\n",
       "      <td>22</td>\n",
       "      <td>9</td>\n",
       "      <td>0</td>\n",
       "    </tr>\n",
       "    <tr>\n",
       "      <td>2</td>\n",
       "      <td>20</td>\n",
       "      <td>20</td>\n",
       "      <td>20</td>\n",
       "      <td>11</td>\n",
       "      <td>8</td>\n",
       "      <td>3</td>\n",
       "      <td>0</td>\n",
       "      <td>20</td>\n",
       "      <td>1</td>\n",
       "      <td>30</td>\n",
       "      <td>12</td>\n",
       "      <td>1</td>\n",
       "    </tr>\n",
       "    <tr>\n",
       "      <td>3</td>\n",
       "      <td>12</td>\n",
       "      <td>1</td>\n",
       "      <td>0</td>\n",
       "      <td>4</td>\n",
       "      <td>6</td>\n",
       "      <td>3</td>\n",
       "      <td>1</td>\n",
       "      <td>18</td>\n",
       "      <td>0</td>\n",
       "      <td>20</td>\n",
       "      <td>4</td>\n",
       "      <td>0</td>\n",
       "    </tr>\n",
       "    <tr>\n",
       "      <td>4</td>\n",
       "      <td>8</td>\n",
       "      <td>9</td>\n",
       "      <td>17</td>\n",
       "      <td>4</td>\n",
       "      <td>14</td>\n",
       "      <td>2</td>\n",
       "      <td>6</td>\n",
       "      <td>27</td>\n",
       "      <td>17</td>\n",
       "      <td>35</td>\n",
       "      <td>17</td>\n",
       "      <td>2</td>\n",
       "    </tr>\n",
       "  </tbody>\n",
       "</table>\n",
       "</div>"
      ],
      "text/plain": [
       "   CSI_RESPROBL  CSI_REESTCOGN  CSI_APOYOSOC  CSI_EVITPROBL  CSI_PENSDESID  \\\n",
       "0            17              5             0              7              5   \n",
       "1            13             11             3              6             11   \n",
       "2            20             20            20             11              8   \n",
       "3            12              1             0              4              6   \n",
       "4             8              9            17              4             14   \n",
       "\n",
       "   CSI_RETISOC  CSI_AUTOCRIT  ANSIEDADRASGO  SCL90_IDEA_PARAN  \\\n",
       "0           13             2             20                 0   \n",
       "1           17            11             17                 1   \n",
       "2            3             0             20                 1   \n",
       "3            3             1             18                 0   \n",
       "4            2             6             27                17   \n",
       "\n",
       "   CAPE_POSIT_FREC  TRAUMA_FRECUENCIA  SPQ_TOTAL_ESQUIZOT  \n",
       "0               24                  4                   0  \n",
       "1               22                  9                   0  \n",
       "2               30                 12                   1  \n",
       "3               20                  4                   0  \n",
       "4               35                 17                   2  "
      ]
     },
     "execution_count": 3,
     "metadata": {},
     "output_type": "execute_result"
    }
   ],
   "source": [
    "df = pd.read_csv(path + 'dataset_esquizotipia_final.csv')\n",
    "df.head()"
   ]
  },
  {
   "cell_type": "code",
   "execution_count": 4,
   "metadata": {},
   "outputs": [],
   "source": [
    "procs = [FillMissing, Categorify, Normalize]"
   ]
  },
  {
   "cell_type": "code",
   "execution_count": 5,
   "metadata": {},
   "outputs": [],
   "source": [
    "# se selecciona un 85% de los datos para entrenamiento y un 15% de los datos para validación\n",
    "valid_idx  =  range ( len ( df ) - 43 ,  len ( df ))"
   ]
  },
  {
   "cell_type": "code",
   "execution_count": 6,
   "metadata": {},
   "outputs": [],
   "source": [
    "# Se define la variable dependiente\n",
    "dep_var  =  'SPQ_TOTAL_ESQUIZOT'"
   ]
  },
  {
   "cell_type": "code",
   "execution_count": 7,
   "metadata": {},
   "outputs": [
    {
     "name": "stdout",
     "output_type": "stream",
     "text": [
      "['TRAUMA_FRECUENCIA', 'CSI_AUTOCRIT', 'CSI_RETISOC', 'CAPE_POSIT_FREC', 'CSI_RESPROBL', 'ANSIEDADRASGO', 'SCL90_IDEA_PARAN', 'CSI_PENSDESID', 'CSI_REESTCOGN', 'CSI_APOYOSOC', 'CSI_EVITPROBL']\n"
     ]
    }
   ],
   "source": [
    "data = TabularDataBunch.from_df(path, df, dep_var, valid_idx=valid_idx, procs=procs)\n",
    "print(data.train_ds.cont_names) # `cont_names` defaults to: set(df)-set(cat_names)-{dep_var}"
   ]
  },
  {
   "cell_type": "code",
   "execution_count": 8,
   "metadata": {},
   "outputs": [
    {
     "name": "stdout",
     "output_type": "stream",
     "text": [
      "[0 0 0 0 0]\n",
      "[[-0.183244  1.027299  0.022635 -0.314949 ...  0.438935  0.344207  0.421665  0.336134]\n",
      " [ 0.005435  0.67446  -1.246687  0.326834 ... -0.892251  1.273567  1.605248 -0.324356]\n",
      " [-1.220978 -0.207638  0.234189 -0.956732 ... -0.393056 -0.399281 -0.085585  0.556298]\n",
      " [-0.371923 -1.266155  1.715065 -0.475395 ... -1.557843  1.645311  1.267081  1.436952]\n",
      " [-0.371923 -0.384057 -0.400472 -0.154503 ... -1.557843 -0.771025 -0.423752 -0.54452 ]]\n",
      "[1 0 0 0 0]\n"
     ]
    }
   ],
   "source": [
    "(cat_x,cont_x),y = next(iter(data.train_dl))\n",
    "for o in (cat_x, cont_x, y): print(to_np(o[:5]))"
   ]
  },
  {
   "cell_type": "code",
   "execution_count": 9,
   "metadata": {},
   "outputs": [
    {
     "data": {
      "text/html": [
       "<table border=\"1\" class=\"dataframe\">\n",
       "  <thead>\n",
       "    <tr style=\"text-align: left;\">\n",
       "      <th>epoch</th>\n",
       "      <th>train_loss</th>\n",
       "      <th>valid_loss</th>\n",
       "      <th>accuracy</th>\n",
       "      <th>time</th>\n",
       "    </tr>\n",
       "  </thead>\n",
       "  <tbody>\n",
       "    <tr>\n",
       "      <td>0</td>\n",
       "      <td>1.026391</td>\n",
       "      <td>1.002214</td>\n",
       "      <td>0.627907</td>\n",
       "      <td>05:00</td>\n",
       "    </tr>\n",
       "    <tr>\n",
       "      <td>1</td>\n",
       "      <td>0.863318</td>\n",
       "      <td>0.949317</td>\n",
       "      <td>0.651163</td>\n",
       "      <td>02:56</td>\n",
       "    </tr>\n",
       "    <tr>\n",
       "      <td>2</td>\n",
       "      <td>0.779053</td>\n",
       "      <td>0.926389</td>\n",
       "      <td>0.651163</td>\n",
       "      <td>03:44</td>\n",
       "    </tr>\n",
       "    <tr>\n",
       "      <td>3</td>\n",
       "      <td>0.711575</td>\n",
       "      <td>0.905586</td>\n",
       "      <td>0.627907</td>\n",
       "      <td>03:31</td>\n",
       "    </tr>\n",
       "    <tr>\n",
       "      <td>4</td>\n",
       "      <td>0.673684</td>\n",
       "      <td>0.892656</td>\n",
       "      <td>0.697674</td>\n",
       "      <td>03:04</td>\n",
       "    </tr>\n",
       "  </tbody>\n",
       "</table>"
      ],
      "text/plain": [
       "<IPython.core.display.HTML object>"
      ]
     },
     "metadata": {},
     "output_type": "display_data"
    }
   ],
   "source": [
    "learn = tabular_learner(data, layers=[200,100], metrics=accuracy)\n",
    "learn.fit(5)"
   ]
  },
  {
   "cell_type": "code",
   "execution_count": 10,
   "metadata": {},
   "outputs": [
    {
     "data": {
      "text/html": [
       "<table border=\"1\" class=\"dataframe\">\n",
       "  <thead>\n",
       "    <tr style=\"text-align: right;\">\n",
       "      <th>TRAUMA_FRECUENCIA</th>\n",
       "      <th>CSI_AUTOCRIT</th>\n",
       "      <th>CSI_RETISOC</th>\n",
       "      <th>CAPE_POSIT_FREC</th>\n",
       "      <th>CSI_RESPROBL</th>\n",
       "      <th>ANSIEDADRASGO</th>\n",
       "      <th>SCL90_IDEA_PARAN</th>\n",
       "      <th>CSI_PENSDESID</th>\n",
       "      <th>CSI_REESTCOGN</th>\n",
       "      <th>CSI_APOYOSOC</th>\n",
       "      <th>CSI_EVITPROBL</th>\n",
       "      <th>target</th>\n",
       "      <th>prediction</th>\n",
       "    </tr>\n",
       "  </thead>\n",
       "  <tbody>\n",
       "    <tr>\n",
       "      <td>-0.3719</td>\n",
       "      <td>2.0858</td>\n",
       "      <td>-0.8236</td>\n",
       "      <td>-0.1545</td>\n",
       "      <td>-0.7208</td>\n",
       "      <td>0.3519</td>\n",
       "      <td>-0.8979</td>\n",
       "      <td>0.7717</td>\n",
       "      <td>-0.3993</td>\n",
       "      <td>1.6052</td>\n",
       "      <td>1.6571</td>\n",
       "      <td>0</td>\n",
       "      <td>0</td>\n",
       "    </tr>\n",
       "    <tr>\n",
       "      <td>-0.9380</td>\n",
       "      <td>-0.5605</td>\n",
       "      <td>-0.4005</td>\n",
       "      <td>-0.3149</td>\n",
       "      <td>1.5119</td>\n",
       "      <td>-0.7190</td>\n",
       "      <td>-0.8979</td>\n",
       "      <td>-1.2250</td>\n",
       "      <td>1.8312</td>\n",
       "      <td>-0.0856</td>\n",
       "      <td>-0.5445</td>\n",
       "      <td>0</td>\n",
       "      <td>0</td>\n",
       "    </tr>\n",
       "    <tr>\n",
       "      <td>-0.7493</td>\n",
       "      <td>0.4980</td>\n",
       "      <td>0.2342</td>\n",
       "      <td>-0.1545</td>\n",
       "      <td>-0.3149</td>\n",
       "      <td>0.1990</td>\n",
       "      <td>1.2508</td>\n",
       "      <td>0.1061</td>\n",
       "      <td>0.3442</td>\n",
       "      <td>-0.0856</td>\n",
       "      <td>0.3361</td>\n",
       "      <td>0</td>\n",
       "      <td>1</td>\n",
       "    </tr>\n",
       "    <tr>\n",
       "      <td>1.9866</td>\n",
       "      <td>-0.3841</td>\n",
       "      <td>2.5613</td>\n",
       "      <td>-0.3149</td>\n",
       "      <td>-1.5327</td>\n",
       "      <td>-1.0250</td>\n",
       "      <td>0.0788</td>\n",
       "      <td>0.6053</td>\n",
       "      <td>-1.1428</td>\n",
       "      <td>-1.4383</td>\n",
       "      <td>2.7579</td>\n",
       "      <td>1</td>\n",
       "      <td>0</td>\n",
       "    </tr>\n",
       "    <tr>\n",
       "      <td>-0.3719</td>\n",
       "      <td>0.4980</td>\n",
       "      <td>1.0804</td>\n",
       "      <td>-0.1545</td>\n",
       "      <td>-1.7357</td>\n",
       "      <td>-0.8720</td>\n",
       "      <td>1.4461</td>\n",
       "      <td>-1.0586</td>\n",
       "      <td>-1.7004</td>\n",
       "      <td>-1.6073</td>\n",
       "      <td>-1.2050</td>\n",
       "      <td>1</td>\n",
       "      <td>0</td>\n",
       "    </tr>\n",
       "  </tbody>\n",
       "</table>"
      ],
      "text/plain": [
       "<IPython.core.display.HTML object>"
      ]
     },
     "metadata": {},
     "output_type": "display_data"
    },
    {
     "data": {
      "image/png": "[encoded data removed]",
      "text/plain": [
       "<Figure size 432x288 with 1 Axes>"
      ]
     },
     "metadata": {
      "needs_background": "light"
     },
     "output_type": "display_data"
    }
   ],
   "source": [
    "learn.recorder.plot_losses()\n",
    "learn.show_results()"
   ]
  },
  {
   "cell_type": "code",
   "execution_count": null,
   "metadata": {},
   "outputs": [],
   "source": []
  }
 ],
 "metadata": {
  "kernelspec": {
   "display_name": "Python 3",
   "language": "python",
   "name": "python3"
  },
  "language_info": {
   "codemirror_mode": {
    "name": "ipython",
    "version": 3
   },
   "file_extension": ".py",
   "mimetype": "text/x-python",
   "name": "python",
   "nbconvert_exporter": "python",
   "pygments_lexer": "ipython3",
   "version": "3.7.4"
  }
 },
 "nbformat": 4,
 "nbformat_minor": 2
}
