{
 "cells": [
  {
   "cell_type": "code",
   "execution_count": 1,
   "metadata": {},
   "outputs": [],
   "source": [
    "from fastai.tabular import *"
   ]
  },
  {
   "cell_type": "code",
   "execution_count": 2,
   "metadata": {},
   "outputs": [
    {
     "data": {
      "text/plain": [
       "'C:/Users/Jorge Mejia/Desktop/analisis_de_las_variables_de_la_esquizotipia_con_deep_learning/analisis_con_dataset_final/'"
      ]
     },
     "execution_count": 2,
     "metadata": {},
     "output_type": "execute_result"
    }
   ],
   "source": [
    "path = 'C:/Users/Jorge Mejia/Desktop/analisis_de_las_variables_de_la_esquizotipia_con_deep_learning/analisis_con_dataset_final/'\n",
    "path"
   ]
  },
  {
   "cell_type": "code",
   "execution_count": 3,
   "metadata": {},
   "outputs": [
    {
     "data": {
      "text/html": [
       "<div>\n",
       "<style scoped>\n",
       "    .dataframe tbody tr th:only-of-type {\n",
       "        vertical-align: middle;\n",
       "    }\n",
       "\n",
       "    .dataframe tbody tr th {\n",
       "        vertical-align: top;\n",
       "    }\n",
       "\n",
       "    .dataframe thead th {\n",
       "        text-align: right;\n",
       "    }\n",
       "</style>\n",
       "<table border=\"1\" class=\"dataframe\">\n",
       "  <thead>\n",
       "    <tr style=\"text-align: right;\">\n",
       "      <th></th>\n",
       "      <th>CSI_RESPROBL</th>\n",
       "      <th>CSI_REESTCOGN</th>\n",
       "      <th>CSI_APOYOSOC</th>\n",
       "      <th>CSI_EVITPROBL</th>\n",
       "      <th>CSI_PENSDESID</th>\n",
       "      <th>CSI_RETISOC</th>\n",
       "      <th>CSI_AUTOCRIT</th>\n",
       "      <th>ANSIEDADRASGO</th>\n",
       "      <th>SCL90_IDEA_PARAN</th>\n",
       "      <th>CAPE_POSIT_FREC</th>\n",
       "      <th>TRAUMA_FRECUENCIA</th>\n",
       "      <th>SPQ_TOTAL_ESQUIZOT</th>\n",
       "    </tr>\n",
       "  </thead>\n",
       "  <tbody>\n",
       "    <tr>\n",
       "      <td>0</td>\n",
       "      <td>17</td>\n",
       "      <td>5</td>\n",
       "      <td>0</td>\n",
       "      <td>7</td>\n",
       "      <td>5</td>\n",
       "      <td>13</td>\n",
       "      <td>2</td>\n",
       "      <td>20</td>\n",
       "      <td>0</td>\n",
       "      <td>24</td>\n",
       "      <td>4</td>\n",
       "      <td>0</td>\n",
       "    </tr>\n",
       "    <tr>\n",
       "      <td>1</td>\n",
       "      <td>13</td>\n",
       "      <td>11</td>\n",
       "      <td>3</td>\n",
       "      <td>6</td>\n",
       "      <td>11</td>\n",
       "      <td>17</td>\n",
       "      <td>11</td>\n",
       "      <td>17</td>\n",
       "      <td>1</td>\n",
       "      <td>22</td>\n",
       "      <td>9</td>\n",
       "      <td>0</td>\n",
       "    </tr>\n",
       "    <tr>\n",
       "      <td>2</td>\n",
       "      <td>20</td>\n",
       "      <td>20</td>\n",
       "      <td>20</td>\n",
       "      <td>11</td>\n",
       "      <td>8</td>\n",
       "      <td>3</td>\n",
       "      <td>0</td>\n",
       "      <td>20</td>\n",
       "      <td>1</td>\n",
       "      <td>30</td>\n",
       "      <td>12</td>\n",
       "      <td>1</td>\n",
       "    </tr>\n",
       "    <tr>\n",
       "      <td>3</td>\n",
       "      <td>12</td>\n",
       "      <td>1</td>\n",
       "      <td>0</td>\n",
       "      <td>4</td>\n",
       "      <td>6</td>\n",
       "      <td>3</td>\n",
       "      <td>1</td>\n",
       "      <td>18</td>\n",
       "      <td>0</td>\n",
       "      <td>20</td>\n",
       "      <td>4</td>\n",
       "      <td>0</td>\n",
       "    </tr>\n",
       "    <tr>\n",
       "      <td>4</td>\n",
       "      <td>8</td>\n",
       "      <td>9</td>\n",
       "      <td>17</td>\n",
       "      <td>4</td>\n",
       "      <td>14</td>\n",
       "      <td>2</td>\n",
       "      <td>6</td>\n",
       "      <td>27</td>\n",
       "      <td>17</td>\n",
       "      <td>35</td>\n",
       "      <td>17</td>\n",
       "      <td>2</td>\n",
       "    </tr>\n",
       "  </tbody>\n",
       "</table>\n",
       "</div>"
      ],
      "text/plain": [
       "   CSI_RESPROBL  CSI_REESTCOGN  CSI_APOYOSOC  CSI_EVITPROBL  CSI_PENSDESID  \\\n",
       "0            17              5             0              7              5   \n",
       "1            13             11             3              6             11   \n",
       "2            20             20            20             11              8   \n",
       "3            12              1             0              4              6   \n",
       "4             8              9            17              4             14   \n",
       "\n",
       "   CSI_RETISOC  CSI_AUTOCRIT  ANSIEDADRASGO  SCL90_IDEA_PARAN  \\\n",
       "0           13             2             20                 0   \n",
       "1           17            11             17                 1   \n",
       "2            3             0             20                 1   \n",
       "3            3             1             18                 0   \n",
       "4            2             6             27                17   \n",
       "\n",
       "   CAPE_POSIT_FREC  TRAUMA_FRECUENCIA  SPQ_TOTAL_ESQUIZOT  \n",
       "0               24                  4                   0  \n",
       "1               22                  9                   0  \n",
       "2               30                 12                   1  \n",
       "3               20                  4                   0  \n",
       "4               35                 17                   2  "
      ]
     },
     "execution_count": 3,
     "metadata": {},
     "output_type": "execute_result"
    }
   ],
   "source": [
    "df = pd.read_csv(path + 'dataset_esquizotipia_final.csv')\n",
    "df.head()"
   ]
  },
  {
   "cell_type": "code",
   "execution_count": 4,
   "metadata": {},
   "outputs": [],
   "source": [
    "procs = [FillMissing, Categorify, Normalize]"
   ]
  },
  {
   "cell_type": "code",
   "execution_count": 5,
   "metadata": {},
   "outputs": [],
   "source": [
    "# se selecciona un 90% de los datos para entrenamiento y un 10% de los datos para validación\n",
    "valid_idx  =  range ( len ( df ) - 29 ,  len ( df ))"
   ]
  },
  {
   "cell_type": "code",
   "execution_count": 6,
   "metadata": {},
   "outputs": [],
   "source": [
    "# Se define la variable dependiente\n",
    "dep_var  =  'SPQ_TOTAL_ESQUIZOT'"
   ]
  },
  {
   "cell_type": "code",
   "execution_count": 7,
   "metadata": {},
   "outputs": [
    {
     "name": "stdout",
     "output_type": "stream",
     "text": [
      "['CSI_AUTOCRIT', 'CSI_EVITPROBL', 'CSI_RESPROBL', 'CSI_PENSDESID', 'ANSIEDADRASGO', 'CAPE_POSIT_FREC', 'CSI_REESTCOGN', 'CSI_RETISOC', 'SCL90_IDEA_PARAN', 'CSI_APOYOSOC', 'TRAUMA_FRECUENCIA']\n"
     ]
    }
   ],
   "source": [
    "data = TabularDataBunch.from_df(path, df, dep_var, valid_idx=valid_idx, procs=procs)\n",
    "print(data.train_ds.cont_names) # `cont_names` defaults to: set(df)-set(cat_names)-{dep_var}"
   ]
  },
  {
   "cell_type": "code",
   "execution_count": 8,
   "metadata": {},
   "outputs": [
    {
     "name": "stdout",
     "output_type": "stream",
     "text": [
      "[0 0 0 0 0]\n",
      "[[ 2.08515  -0.113692  0.70807   1.115444 ...  1.077253  0.457539  0.428929 -0.176181]\n",
      " [ 0.498653 -1.212144 -1.691588 -1.067742 ...  1.077253  1.435804 -1.612454 -0.365235]\n",
      " [ 0.498653  0.545379  0.308127  0.10782  ...  0.014066  0.066233  0.769159 -1.026924]\n",
      " [-0.382735 -0.992454 -1.091673  0.275757 ... -0.623847 -0.325073 -0.421648 -1.026924]\n",
      " [-0.382735 -0.333382  1.108014  0.947506 ... -1.049122 -0.912032  1.619735 -0.648816]]\n",
      "[1 1 1 0 0]\n"
     ]
    }
   ],
   "source": [
    "(cat_x,cont_x),y = next(iter(data.train_dl))\n",
    "for o in (cat_x, cont_x, y): print(to_np(o[:5]))"
   ]
  },
  {
   "cell_type": "code",
   "execution_count": 9,
   "metadata": {},
   "outputs": [
    {
     "data": {
      "text/html": [
       "<table border=\"1\" class=\"dataframe\">\n",
       "  <thead>\n",
       "    <tr style=\"text-align: left;\">\n",
       "      <th>epoch</th>\n",
       "      <th>train_loss</th>\n",
       "      <th>valid_loss</th>\n",
       "      <th>accuracy</th>\n",
       "      <th>time</th>\n",
       "    </tr>\n",
       "  </thead>\n",
       "  <tbody>\n",
       "    <tr>\n",
       "      <td>0</td>\n",
       "      <td>1.033178</td>\n",
       "      <td>0.910936</td>\n",
       "      <td>0.620690</td>\n",
       "      <td>02:49</td>\n",
       "    </tr>\n",
       "    <tr>\n",
       "      <td>1</td>\n",
       "      <td>0.905919</td>\n",
       "      <td>0.852213</td>\n",
       "      <td>0.689655</td>\n",
       "      <td>02:33</td>\n",
       "    </tr>\n",
       "    <tr>\n",
       "      <td>2</td>\n",
       "      <td>0.811255</td>\n",
       "      <td>0.784591</td>\n",
       "      <td>0.689655</td>\n",
       "      <td>02:32</td>\n",
       "    </tr>\n",
       "    <tr>\n",
       "      <td>3</td>\n",
       "      <td>0.743159</td>\n",
       "      <td>0.737369</td>\n",
       "      <td>0.724138</td>\n",
       "      <td>02:33</td>\n",
       "    </tr>\n",
       "    <tr>\n",
       "      <td>4</td>\n",
       "      <td>0.686890</td>\n",
       "      <td>0.716046</td>\n",
       "      <td>0.689655</td>\n",
       "      <td>02:32</td>\n",
       "    </tr>\n",
       "  </tbody>\n",
       "</table>"
      ],
      "text/plain": [
       "<IPython.core.display.HTML object>"
      ]
     },
     "metadata": {},
     "output_type": "display_data"
    }
   ],
   "source": [
    "learn = tabular_learner(data, layers=[200,100], metrics=accuracy)\n",
    "learn.fit(5)"
   ]
  },
  {
   "cell_type": "code",
   "execution_count": 10,
   "metadata": {},
   "outputs": [
    {
     "data": {
      "text/html": [
       "<table border=\"1\" class=\"dataframe\">\n",
       "  <thead>\n",
       "    <tr style=\"text-align: right;\">\n",
       "      <th>CSI_AUTOCRIT</th>\n",
       "      <th>CSI_EVITPROBL</th>\n",
       "      <th>CSI_RESPROBL</th>\n",
       "      <th>CSI_PENSDESID</th>\n",
       "      <th>ANSIEDADRASGO</th>\n",
       "      <th>CAPE_POSIT_FREC</th>\n",
       "      <th>CSI_REESTCOGN</th>\n",
       "      <th>CSI_RETISOC</th>\n",
       "      <th>SCL90_IDEA_PARAN</th>\n",
       "      <th>CSI_APOYOSOC</th>\n",
       "      <th>TRAUMA_FRECUENCIA</th>\n",
       "      <th>target</th>\n",
       "      <th>prediction</th>\n",
       "    </tr>\n",
       "  </thead>\n",
       "  <tbody>\n",
       "    <tr>\n",
       "      <td>-0.3827</td>\n",
       "      <td>-0.7728</td>\n",
       "      <td>-1.2916</td>\n",
       "      <td>-0.7319</td>\n",
       "      <td>0.0405</td>\n",
       "      <td>0.3136</td>\n",
       "      <td>-0.5802</td>\n",
       "      <td>0.2267</td>\n",
       "      <td>-0.1294</td>\n",
       "      <td>-1.4423</td>\n",
       "      <td>1.0527</td>\n",
       "      <td>2</td>\n",
       "      <td>1</td>\n",
       "    </tr>\n",
       "    <tr>\n",
       "      <td>-1.0878</td>\n",
       "      <td>-1.4318</td>\n",
       "      <td>-2.0915</td>\n",
       "      <td>-0.3960</td>\n",
       "      <td>-0.2659</td>\n",
       "      <td>-0.4674</td>\n",
       "      <td>-1.1338</td>\n",
       "      <td>-1.0491</td>\n",
       "      <td>-0.3251</td>\n",
       "      <td>0.4289</td>\n",
       "      <td>-0.4598</td>\n",
       "      <td>0</td>\n",
       "      <td>0</td>\n",
       "    </tr>\n",
       "    <tr>\n",
       "      <td>-0.9116</td>\n",
       "      <td>-0.7728</td>\n",
       "      <td>1.3080</td>\n",
       "      <td>-1.9074</td>\n",
       "      <td>0.1938</td>\n",
       "      <td>-0.4674</td>\n",
       "      <td>0.7116</td>\n",
       "      <td>-0.1986</td>\n",
       "      <td>-0.7164</td>\n",
       "      <td>0.5990</td>\n",
       "      <td>-0.6488</td>\n",
       "      <td>0</td>\n",
       "      <td>0</td>\n",
       "    </tr>\n",
       "    <tr>\n",
       "      <td>-1.2641</td>\n",
       "      <td>-0.5531</td>\n",
       "      <td>-0.8917</td>\n",
       "      <td>-0.8998</td>\n",
       "      <td>-0.7256</td>\n",
       "      <td>-0.6236</td>\n",
       "      <td>-0.7647</td>\n",
       "      <td>-0.4112</td>\n",
       "      <td>-0.1294</td>\n",
       "      <td>-0.7619</td>\n",
       "      <td>1.0527</td>\n",
       "      <td>2</td>\n",
       "      <td>0</td>\n",
       "    </tr>\n",
       "    <tr>\n",
       "      <td>-1.0878</td>\n",
       "      <td>0.3257</td>\n",
       "      <td>-1.6916</td>\n",
       "      <td>-0.7319</td>\n",
       "      <td>-0.8788</td>\n",
       "      <td>-0.3112</td>\n",
       "      <td>-0.2111</td>\n",
       "      <td>-0.8365</td>\n",
       "      <td>-0.9120</td>\n",
       "      <td>-0.2515</td>\n",
       "      <td>-1.1215</td>\n",
       "      <td>1</td>\n",
       "      <td>0</td>\n",
       "    </tr>\n",
       "  </tbody>\n",
       "</table>"
      ],
      "text/plain": [
       "<IPython.core.display.HTML object>"
      ]
     },
     "metadata": {},
     "output_type": "display_data"
    },
    {
     "data": {
      "image/png": "[encoded data removed]",
      "text/plain": [
       "<Figure size 432x288 with 1 Axes>"
      ]
     },
     "metadata": {
      "needs_background": "light"
     },
     "output_type": "display_data"
    }
   ],
   "source": [
    "learn.recorder.plot_losses()\n",
    "learn.show_results()"
   ]
  },
  {
   "cell_type": "code",
   "execution_count": null,
   "metadata": {},
   "outputs": [],
   "source": []
  }
 ],
 "metadata": {
  "kernelspec": {
   "display_name": "Python 3",
   "language": "python",
   "name": "python3"
  },
  "language_info": {
   "codemirror_mode": {
    "name": "ipython",
    "version": 3
   },
   "file_extension": ".py",
   "mimetype": "text/x-python",
   "name": "python",
   "nbconvert_exporter": "python",
   "pygments_lexer": "ipython3",
   "version": "3.7.4"
  }
 },
 "nbformat": 4,
 "nbformat_minor": 2
}
